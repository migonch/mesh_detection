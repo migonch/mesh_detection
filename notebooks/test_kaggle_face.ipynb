{
 "cells": [
  {
   "cell_type": "code",
   "execution_count": 24,
   "metadata": {},
   "outputs": [
    {
     "name": "stdout",
     "output_type": "stream",
     "text": [
      "The autoreload extension is already loaded. To reload it, use:\n",
      "  %reload_ext autoreload\n"
     ]
    },
    {
     "data": {
      "text/plain": [
       "<Figure size 432x288 with 0 Axes>"
      ]
     },
     "metadata": {},
     "output_type": "display_data"
    }
   ],
   "source": [
    "%load_ext autoreload\n",
    "%autoreload 2\n",
    "\n",
    "from pathlib import Path\n",
    "import numpy as np\n",
    "import matplotlib.pyplot as plt; plt.set_cmap('gray')\n",
    "from functools import partial\n",
    "\n",
    "import torch\n",
    "import torch.nn as nn\n",
    "import torch.nn.functional as F\n",
    "from torch.optim import Adam\n",
    "\n",
    "from mesh_detection.dataset import FaceDataset\n",
    "from mesh_detection.batch_iter import batch_iterator\n",
    "from mesh_detection.utils import add_channel_dim, randomly_flip, show_key_points, to_torch, to_np, sequence_to_torch\n",
    "from mesh_detection.split import train_val_test_split, stratified_train_val_test_split\n",
    "from mesh_detection.model import BitNet, predict\n",
    "from mesh_detection.train import validator, train, criterion\n",
    "from mesh_detection.metric import l2"
   ]
  },
  {
   "cell_type": "code",
   "execution_count": 25,
   "metadata": {},
   "outputs": [
    {
     "data": {
      "text/plain": [
       "'cpu'"
      ]
     },
     "execution_count": 25,
     "metadata": {},
     "output_type": "execute_result"
    }
   ],
   "source": [
    "device = 'cuda' if torch.cuda.is_available() else 'cpu'\n",
    "device"
   ]
  },
  {
   "cell_type": "markdown",
   "metadata": {},
   "source": [
    "# Dataset"
   ]
  },
  {
   "cell_type": "code",
   "execution_count": 26,
   "metadata": {},
   "outputs": [],
   "source": [
    "kaggle_face_path = Path('../../kaggle_face/training.csv')"
   ]
  },
  {
   "cell_type": "code",
   "execution_count": 27,
   "metadata": {},
   "outputs": [],
   "source": [
    "ds = FaceDataset(kaggle_face_path)"
   ]
  },
  {
   "cell_type": "code",
   "execution_count": 28,
   "metadata": {},
   "outputs": [],
   "source": [
    "i = np.random.choice(ds.ids)"
   ]
  },
  {
   "cell_type": "code",
   "execution_count": 29,
   "metadata": {},
   "outputs": [],
   "source": [
    "img = ds.load_image(i)\n",
    "kps = ds.load_key_points(i)"
   ]
  },
  {
   "cell_type": "code",
   "execution_count": 30,
   "metadata": {},
   "outputs": [
    {
     "data": {
      "image/png": "[encoded data removed]",
      "text/plain": [
       "<Figure size 432x288 with 1 Axes>"
      ]
     },
     "metadata": {
      "needs_background": "light"
     },
     "output_type": "display_data"
    }
   ],
   "source": [
    "plt.axis('off')\n",
    "plt.imshow(img)\n",
    "show_key_points(kps)"
   ]
  },
  {
   "cell_type": "markdown",
   "metadata": {},
   "source": [
    "# Split"
   ]
  },
  {
   "cell_type": "code",
   "execution_count": 32,
   "metadata": {},
   "outputs": [],
   "source": [
    "contain_nans = [np.any(np.isnan(ds.load_key_points(i))) for i in ds.ids]"
   ]
  },
  {
   "cell_type": "code",
   "execution_count": 33,
   "metadata": {},
   "outputs": [],
   "source": [
    "train_ids, val_ids, test_ids = stratified_train_val_test_split(ds.ids, labels=contain_nans)[0]"
   ]
  },
  {
   "cell_type": "markdown",
   "metadata": {},
   "source": [
    "# Batch iterator"
   ]
  },
  {
   "cell_type": "code",
   "execution_count": 34,
   "metadata": {},
   "outputs": [],
   "source": [
    "batch_iter = batch_iterator(ds.load_image, ds.load_key_points, train_ids[:100], 50, randomly_flip, add_channel_dim)"
   ]
  },
  {
   "cell_type": "code",
   "execution_count": 35,
   "metadata": {},
   "outputs": [
    {
     "data": {
      "text/plain": [
       "<function mesh_detection.batch_iter.batch_iterator.<locals>.iterate_batches()>"
      ]
     },
     "execution_count": 35,
     "metadata": {},
     "output_type": "execute_result"
    }
   ],
   "source": [
    "batch_iter"
   ]
  },
  {
   "cell_type": "markdown",
   "metadata": {},
   "source": [
    "# Model"
   ]
  },
  {
   "cell_type": "code",
   "execution_count": 36,
   "metadata": {},
   "outputs": [],
   "source": [
    "stucture = [\n",
    "    [[1, 16, 16],                     [16, 32, 32]],\n",
    "        [[16, 32, 32],                [32, 64, 64]],\n",
    "            [[32, 64, 64],            [64, 128, 128]],\n",
    "                [[64, 128, 128],      [128, 256, 256]],\n",
    "                    [[128, 256, 256], [256, 512, 512]],\n",
    "                        [256, 512, 512]\n",
    "]\n",
    "\n",
    "n_points = 15\n",
    "conv_block = partial(nn.Conv2d, kernel_size=3, padding=1)\n",
    "pooling = partial(nn.MaxPool2d, kernel_size=2)\n",
    "\n",
    "model = BitNet(stucture, n_points, conv_block, pooling)"
   ]
  },
  {
   "cell_type": "markdown",
   "metadata": {},
   "source": [
    "# Train"
   ]
  },
  {
   "cell_type": "code",
   "execution_count": 37,
   "metadata": {},
   "outputs": [],
   "source": [
    "optimizer = Adam(model.parameters(), lr=1e-3)"
   ]
  },
  {
   "cell_type": "code",
   "execution_count": 38,
   "metadata": {},
   "outputs": [],
   "source": [
    "validate = validator(val_ids, ds.load_image, ds.load_key_points, {'l2': l2})"
   ]
  },
  {
   "cell_type": "code",
   "execution_count": 39,
   "metadata": {},
   "outputs": [
    {
     "data": {
      "application/vnd.jupyter.widget-view+json": {
       "model_id": "59fc53ecb85d40f28480432b496fce54",
       "version_major": 2,
       "version_minor": 0
      },
      "text/plain": [
       "HBox(children=(IntProgress(value=0, max=3), HTML(value='')))"
      ]
     },
     "metadata": {},
     "output_type": "display_data"
    },
    {
     "name": "stdout",
     "output_type": "stream",
     "text": [
      "\n"
     ]
    }
   ],
   "source": [
    "model, losses, val_metrics = train(model, batch_iter, optimizer, criterion, n_epochs=3, validate=validate)"
   ]
  },
  {
   "cell_type": "code",
   "execution_count": 40,
   "metadata": {},
   "outputs": [
    {
     "data": {
      "text/plain": [
       "{'l2': [array([69.89153 , 41.676254, 63.19246 , 76.834145, 45.476032, 37.256134,\n",
       "         56.673073, 80.31972 , 41.88741 , 27.930115, 71.849205, 91.77658 ,\n",
       "         75.46656 , 81.090485, 85.41636 ], dtype=float32),\n",
       "  array([68.58003 , 40.048843, 61.248005, 75.01453 , 43.2679  , 35.14006 ,\n",
       "         54.941414, 78.40216 , 40.01216 , 25.754887, 69.75034 , 90.31416 ,\n",
       "         73.72393 , 78.98531 , 83.578445], dtype=float32),\n",
       "  array([67.97988 , 39.431583, 61.05462 , 74.6201  , 42.87862 , 34.723732,\n",
       "         54.49417 , 78.193665, 39.058353, 25.169722, 69.20157 , 89.78735 ,\n",
       "         73.11185 , 78.44504 , 83.03669 ], dtype=float32)]}"
      ]
     },
     "execution_count": 40,
     "metadata": {},
     "output_type": "execute_result"
    }
   ],
   "source": [
    "val_metrics"
   ]
  },
  {
   "cell_type": "code",
   "execution_count": null,
   "metadata": {},
   "outputs": [],
   "source": []
  }
 ],
 "metadata": {
  "kernelspec": {
   "display_name": "Python 3",
   "language": "python",
   "name": "python3"
  },
  "language_info": {
   "codemirror_mode": {
    "name": "ipython",
    "version": 3
   },
   "file_extension": ".py",
   "mimetype": "text/x-python",
   "name": "python",
   "nbconvert_exporter": "python",
   "pygments_lexer": "ipython3",
   "version": "3.7.3"
  }
 },
 "nbformat": 4,
 "nbformat_minor": 2
}
