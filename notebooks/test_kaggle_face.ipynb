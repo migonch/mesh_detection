{
 "cells": [
  {
   "cell_type": "code",
   "execution_count": 1,
   "metadata": {},
   "outputs": [],
   "source": [
    "%load_ext autoreload\n",
    "%autoreload 2\n",
    "\n",
    "from pathlib import Path\n",
    "import numpy as np\n",
    "import matplotlib.pyplot as plt; plt.set_cmap('gray')\n",
    "from functools import partial\n",
    "\n",
    "import torch\n",
    "import torch.nn as nn\n",
    "import torch.nn.functional as F\n",
    "from torch.optim import Adam\n",
    "\n",
    "from mesh_detection.dataset import FaceDataset\n",
    "from mesh_detection.batch_iter import batch_iterator\n",
    "from mesh_detection.utils import add_channel_dim, randomly_flip, show_key_points, to_torch, to_np, sequence_to_torch\n",
    "from mesh_detection.split import train_val_test_split, stratified_train_val_test_split\n",
    "from mesh_detection.model import BitNet, predict\n",
    "from mesh_detection.train import validator, train, criterion\n",
    "from mesh_detection.metric import l2"
   ]
  },
  {
   "cell_type": "code",
   "execution_count": 2,
   "metadata": {},
   "outputs": [
    {
     "data": {
      "text/plain": [
       "'cpu'"
      ]
     },
     "execution_count": 2,
     "metadata": {},
     "output_type": "execute_result"
    }
   ],
   "source": [
    "device = 'cuda' if torch.cuda.is_available() else 'cpu'\n",
    "device"
   ]
  },
  {
   "cell_type": "markdown",
   "metadata": {},
   "source": [
    "# Dataset"
   ]
  },
  {
   "cell_type": "code",
   "execution_count": 3,
   "metadata": {},
   "outputs": [],
   "source": [
    "kaggle_face_path = Path('../../kaggle_face/training.csv')"
   ]
  },
  {
   "cell_type": "code",
   "execution_count": 4,
   "metadata": {},
   "outputs": [],
   "source": [
    "ds = FaceDataset(kaggle_face_path)"
   ]
  },
  {
   "cell_type": "code",
   "execution_count": 5,
   "metadata": {},
   "outputs": [],
   "source": [
    "i = np.random.choice(ds.ids)"
   ]
  },
  {
   "cell_type": "code",
   "execution_count": 6,
   "metadata": {},
   "outputs": [],
   "source": [
    "img = ds.load_image(i)\n",
    "kps = ds.load_key_points(i)"
   ]
  },
  {
   "cell_type": "code",
   "execution_count": 7,
   "metadata": {},
   "outputs": [
    {
     "data": {
      "image/png": "[encoded data removed]",
      "text/plain": [
       "<Figure size 432x288 with 1 Axes>"
      ]
     },
     "metadata": {
      "needs_background": "light"
     },
     "output_type": "display_data"
    }
   ],
   "source": [
    "plt.axis('off')\n",
    "plt.imshow(img)\n",
    "show_key_points(kps)"
   ]
  },
  {
   "cell_type": "markdown",
   "metadata": {},
   "source": [
    "# Split"
   ]
  },
  {
   "cell_type": "code",
   "execution_count": 8,
   "metadata": {},
   "outputs": [],
   "source": [
    "contain_nans = [np.any(np.isnan(ds.load_key_points(i))) for i in ds.ids]"
   ]
  },
  {
   "cell_type": "code",
   "execution_count": 9,
   "metadata": {},
   "outputs": [],
   "source": [
    "train_ids, val_ids, test_ids = stratified_train_val_test_split(ds.ids, labels=contain_nans)[0]"
   ]
  },
  {
   "cell_type": "markdown",
   "metadata": {},
   "source": [
    "# Batch iterator"
   ]
  },
  {
   "cell_type": "code",
   "execution_count": 10,
   "metadata": {},
   "outputs": [],
   "source": [
    "batch_iter = batch_iterator(ds.load_image, ds.load_key_points, train_ids[:100], 50, randomly_flip, add_channel_dim)"
   ]
  },
  {
   "cell_type": "code",
   "execution_count": 11,
   "metadata": {},
   "outputs": [
    {
     "data": {
      "text/plain": [
       "<function mesh_detection.batch_iter.batch_iterator.<locals>.iterate_batches()>"
      ]
     },
     "execution_count": 11,
     "metadata": {},
     "output_type": "execute_result"
    }
   ],
   "source": [
    "batch_iter"
   ]
  },
  {
   "cell_type": "markdown",
   "metadata": {},
   "source": [
    "# Model"
   ]
  },
  {
   "cell_type": "code",
   "execution_count": 12,
   "metadata": {},
   "outputs": [],
   "source": [
    "stucture = [\n",
    "    [[1, 16, 16],                     [16, 32, 32]],\n",
    "        [[16, 32, 32],                [32, 64, 64]],\n",
    "            [[32, 64, 64],            [64, 128, 128]],\n",
    "                [[64, 128, 128],      [128, 256, 256]],\n",
    "                    [[128, 256, 256], [256, 512, 512]],\n",
    "                        [256, 512, 512]\n",
    "]\n",
    "\n",
    "n_points = 15\n",
    "conv_block = partial(nn.Conv2d, kernel_size=3, padding=1)\n",
    "pooling = partial(nn.MaxPool2d, kernel_size=2)\n",
    "\n",
    "model = BitNet(stucture, n_points, conv_block, pooling).to(device)"
   ]
  },
  {
   "cell_type": "markdown",
   "metadata": {},
   "source": [
    "# Train"
   ]
  },
  {
   "cell_type": "code",
   "execution_count": 13,
   "metadata": {},
   "outputs": [],
   "source": [
    "optimizer = Adam(model.parameters(), lr=1e-3)"
   ]
  },
  {
   "cell_type": "code",
   "execution_count": 14,
   "metadata": {},
   "outputs": [],
   "source": [
    "validate = validator(val_ids, ds.load_image, ds.load_key_points, {'l2': l2})"
   ]
  },
  {
   "cell_type": "code",
   "execution_count": 15,
   "metadata": {},
   "outputs": [
    {
     "data": {
      "application/vnd.jupyter.widget-view+json": {
       "model_id": "d13788a9f7a744c49c7d25c2ebbff3b8",
       "version_major": 2,
       "version_minor": 0
      },
      "text/plain": [
       "HBox(children=(IntProgress(value=0, max=3), HTML(value='')))"
      ]
     },
     "metadata": {},
     "output_type": "display_data"
    },
    {
     "name": "stdout",
     "output_type": "stream",
     "text": [
      "\n",
      "CPU times: user 2min 36s, sys: 3min 18s, total: 5min 54s\n",
      "Wall time: 13.3 s\n"
     ]
    }
   ],
   "source": [
    "%time model, losses, val_metrics = train(model, batch_iter, optimizer, criterion, n_epochs=3, validate=validate)"
   ]
  },
  {
   "cell_type": "code",
   "execution_count": 16,
   "metadata": {},
   "outputs": [
    {
     "data": {
      "text/plain": [
       "{'l2': [array([68.52731 , 40.556046, 62.112976, 75.613716, 44.183113, 35.065937,\n",
       "         54.64218 , 79.66975 , 40.19076 , 26.68202 , 69.951225, 91.04402 ,\n",
       "         74.937675, 80.33165 , 83.50834 ], dtype=float32),\n",
       "  array([67.70151 , 38.883827, 60.56678 , 74.28905 , 42.934288, 34.040726,\n",
       "         54.112564, 78.85206 , 39.618835, 25.677273, 69.01877 , 89.21194 ,\n",
       "         73.69868 , 78.94028 , 82.890144], dtype=float32),\n",
       "  array([67.32505 , 38.770683, 60.40328 , 74.19124 , 42.643   , 34.031635,\n",
       "         54.093338, 78.77751 , 39.610558, 25.670057, 68.997154, 88.98481 ,\n",
       "         73.13233 , 78.88164 , 82.88417 ], dtype=float32)]}"
      ]
     },
     "execution_count": 16,
     "metadata": {},
     "output_type": "execute_result"
    }
   ],
   "source": [
    "val_metrics"
   ]
  },
  {
   "cell_type": "code",
   "execution_count": 17,
   "metadata": {},
   "outputs": [
    {
     "data": {
      "text/plain": [
       "[2344.04, 2126.3296, 2089.544]"
      ]
     },
     "execution_count": 17,
     "metadata": {},
     "output_type": "execute_result"
    }
   ],
   "source": [
    "losses"
   ]
  },
  {
   "cell_type": "code",
   "execution_count": null,
   "metadata": {},
   "outputs": [],
   "source": []
  }
 ],
 "metadata": {
  "kernelspec": {
   "display_name": "Python 3",
   "language": "python",
   "name": "python3"
  },
  "language_info": {
   "codemirror_mode": {
    "name": "ipython",
    "version": 3
   },
   "file_extension": ".py",
   "mimetype": "text/x-python",
   "name": "python",
   "nbconvert_exporter": "python",
   "pygments_lexer": "ipython3",
   "version": "3.7.3"
  }
 },
 "nbformat": 4,
 "nbformat_minor": 2
}
